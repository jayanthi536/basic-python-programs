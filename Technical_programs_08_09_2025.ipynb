{
  "nbformat": 4,
  "nbformat_minor": 0,
  "metadata": {
    "colab": {
      "provenance": []
    },
    "kernelspec": {
      "name": "python3",
      "display_name": "Python 3"
    },
    "language_info": {
      "name": "python"
    }
  },
  "cells": [
    {
      "cell_type": "code",
      "source": [
        "#PROGRAM TO READ TWO INTEGER VALUES AS INPUT FROM YHE USER AND FIND THE SUMMATION OF IT.\n",
        "num1=int(input(\" enter the first number:\"))\n",
        "num2=int(input(\" enter the second number:\"))\n",
        "print(f\"summation:{num1+num2}\")"
      ],
      "metadata": {
        "colab": {
          "base_uri": "https://localhost:8080/"
        },
        "id": "edh81tuN6g1s",
        "outputId": "af5b4b5b-ff18-4871-d9b9-c7f58b16e6c8"
      },
      "execution_count": null,
      "outputs": [
        {
          "output_type": "stream",
          "name": "stdout",
          "text": [
            " enter the first number:4\n",
            " enter the second number:7\n",
            "summation:11\n"
          ]
        }
      ]
    },
    {
      "cell_type": "code",
      "source": [
        "#PROGRAM TO READ AN INTEGER VALUE TO CHECK WHETHER IT IS A DIGIT OR NUMBER.\n",
        "num=int(input(\" enter the integer :\"))\n",
        "if(num>=-9 and num<=9):\n",
        "    print(\"Digit\")\n",
        "else:\n",
        "    Print(\"number\")"
      ],
      "metadata": {
        "colab": {
          "base_uri": "https://localhost:8080/"
        },
        "id": "tHWS6QCrqBsV",
        "outputId": "f21ec28c-5ec5-48c8-d8b9-2d15e1d5671e"
      },
      "execution_count": null,
      "outputs": [
        {
          "output_type": "stream",
          "name": "stdout",
          "text": [
            " enter the integer :6\n",
            "Digit\n"
          ]
        }
      ]
    },
    {
      "cell_type": "code",
      "source": [
        "#PROGRAM TO READ AN INTEGER FROM THE USER AND CHECK WHETHER IT IS A TWO DIGIT NUMBER OR NOT.\n",
        "num=int(input(\" enter the integer :\"))\n",
        "if(num>=10 and num<=99 or (num>=-10 and num<=-99)):\n",
        "    print(\"two digit number\")\n",
        "else:\n",
        "    print(\"not a two digit number\")"
      ],
      "metadata": {
        "colab": {
          "base_uri": "https://localhost:8080/"
        },
        "id": "JMGVSeIU8GNR",
        "outputId": "bf8404b3-a2fa-48df-ed83-e9dc6c140a76"
      },
      "execution_count": null,
      "outputs": [
        {
          "output_type": "stream",
          "name": "stdout",
          "text": [
            " enter the integer :108\n",
            "not a two digit number\n"
          ]
        }
      ]
    },
    {
      "cell_type": "code",
      "source": [
        "#PROGRAM TO READ AN INTEGER FROM THE USER AND CHECK WHETHER IT IS A THREE DIGIT NUMBER OR NOT.\n",
        "num=int(input(\" enter the integer :\"))\n",
        "if(num>=100 and num<=999 or (num>=-100 and num<=-999)):\n",
        "    print(\"three digit number\")\n",
        "else:\n",
        "    print(\"not a three digit number\")"
      ],
      "metadata": {
        "colab": {
          "base_uri": "https://localhost:8080/"
        },
        "id": "U69b40deCrRZ",
        "outputId": "8c59a5da-fe1d-4806-ff54-21b3023c0c5e"
      },
      "execution_count": null,
      "outputs": [
        {
          "output_type": "stream",
          "name": "stdout",
          "text": [
            " enter the integer :956\n",
            "three digit number\n"
          ]
        }
      ]
    },
    {
      "cell_type": "code",
      "source": [
        "#PROGRAM TO READ AN INTEGER FROM THE USER AND CHECK WHETHER IT IS A FOUR DIGIT NUMBER OR NOT.\n",
        "num=int(input(\" enter the integer :\"))\n",
        "if(num>=1000 and num<=9999 or (num>=-1000 and num<=-9999)):\n",
        "    print(\"four digit number\")\n",
        "else:\n",
        "    print(\"not a four digit number\")"
      ],
      "metadata": {
        "colab": {
          "base_uri": "https://localhost:8080/"
        },
        "id": "zARgE7-cC56F",
        "outputId": "869d483b-0a61-4568-acf3-431b6f0190cf"
      },
      "execution_count": null,
      "outputs": [
        {
          "output_type": "stream",
          "name": "stdout",
          "text": [
            " enter the integer :10000\n",
            "not a four digit number\n"
          ]
        }
      ]
    },
    {
      "cell_type": "code",
      "source": [],
      "metadata": {
        "id": "3bRlKmzbwcdf"
      },
      "execution_count": null,
      "outputs": []
    },
    {
      "cell_type": "code",
      "source": [
        "#PROGRAM TO READ THE INPUT FROM THE USER AND FIND THE LARGEST NUMBER .\n",
        "num1=int(input(\" Enter the first integer:\"))\n",
        "num2=int(input (\"Enter the second integer:\"))\n",
        "if(num1>num2):\n",
        "   print(f\"{num1} is largest number\")\n",
        "else:\n",
        "   print(f\"{num2} is largest number\")"
      ],
      "metadata": {
        "colab": {
          "base_uri": "https://localhost:8080/"
        },
        "id": "hl62vF8AEkkL",
        "outputId": "bf02ae8d-7a9f-47ad-8554-d46ee3e4146f"
      },
      "execution_count": null,
      "outputs": [
        {
          "output_type": "stream",
          "name": "stdout",
          "text": [
            " Enter the first integer:34\n",
            "Enter the second integer:24\n",
            "34 is largest number\n"
          ]
        }
      ]
    },
    {
      "cell_type": "code",
      "source": [
        "res=num1 if ( num1> num2) else num2\n",
        "print(f\"{res} is largest number\")"
      ],
      "metadata": {
        "colab": {
          "base_uri": "https://localhost:8080/"
        },
        "id": "aV1apItuGRIM",
        "outputId": "3fc2a70f-c945-4f60-c73b-aec4d8935495"
      },
      "execution_count": null,
      "outputs": [
        {
          "output_type": "stream",
          "name": "stdout",
          "text": [
            "34 is largest number\n"
          ]
        }
      ]
    },
    {
      "cell_type": "code",
      "source": [
        "#PROGRAM TO READ THE INPUT FROM THE USER AND FIND THE SMALLEST NUMBER.\n",
        "num1=int(input(\" Enter the first integer:\"))\n",
        "num2=int(input (\"Enter the second integer:\"))\n",
        "if(num1<num2):\n",
        "   print(f\"{num1} is smallest number\")\n",
        "else:\n",
        "   print(f\"{num2} is smallest number\")"
      ],
      "metadata": {
        "colab": {
          "base_uri": "https://localhost:8080/"
        },
        "id": "T8RmQAm-G0Cs",
        "outputId": "962d37e8-91b7-4563-8767-c1a49bdcce7d"
      },
      "execution_count": null,
      "outputs": [
        {
          "output_type": "stream",
          "name": "stdout",
          "text": [
            " Enter the first integer:5\n",
            "Enter the second integer:10\n",
            "5 is smallest number\n"
          ]
        }
      ]
    },
    {
      "cell_type": "code",
      "source": [
        "#PROGRAM TO READ THE INPUT FROM THE USER AND FIND THE GREATEST NUMBER USING IF ELSE OR TERNARY OPERATOR.\n",
        "num1=int(input(\" Enter the first integer:\"))\n",
        "num2=int(input (\"Enter the second integer:\"))\n",
        "num3=int(input (\"Enter the third integer:\"))\n",
        "\n",
        "if(num1>num2 and num1>num3):\n",
        "   print(f\"{num1} is greatest number\")\n",
        "elif(num2>num1 and num2>num3):\n",
        "   print(f\"{num2} is greatest number\")\n",
        "else:\n",
        "   print(f\"{num3} is greatest number\")"
      ],
      "metadata": {
        "colab": {
          "base_uri": "https://localhost:8080/"
        },
        "id": "0NhYZS-9HqzM",
        "outputId": "687b639d-824d-42a1-a297-11c5539b26d9"
      },
      "execution_count": null,
      "outputs": [
        {
          "output_type": "stream",
          "name": "stdout",
          "text": [
            " Enter the first integer:4\n",
            "Enter the second integer:5\n",
            "Enter the third integer:8\n",
            "8 is greatest number\n"
          ]
        }
      ]
    },
    {
      "cell_type": "code",
      "source": [
        "largest=num1 if(num1>num2 and num1>num2) else num2\n",
        "res= num3 if(num3>num1 and num3>num2) else largest\n",
        "print(f\"{res} is greatest number\")"
      ],
      "metadata": {
        "colab": {
          "base_uri": "https://localhost:8080/"
        },
        "id": "tpgigeGvLTFw",
        "outputId": "62c8d39d-6d98-425e-a292-37fadfebeeaa"
      },
      "execution_count": null,
      "outputs": [
        {
          "output_type": "stream",
          "name": "stdout",
          "text": [
            "8 is greatest number\n"
          ]
        }
      ]
    },
    {
      "cell_type": "code",
      "source": [
        "#PROGRAM TO READ THE INPUT FROM THE USER AND FIND THE SMALLEST NUMBER USING IF ELSE OR TERNARY OPERATOR.\n",
        "num1=int(input(\" Enter the first integer:\"))\n",
        "num2=int(input (\"Enter the second integer:\"))\n",
        "num3=int(input (\"Enter the third integer:\"))\n",
        "\n",
        "if(num1<num2<num3 and num1num2):\n",
        "   print(f\"{num1} is smallest number\")\n",
        "elif(num2<num1 and num2<num3):\n",
        "   print(f\"{num2} is smallest number\")\n",
        "else:\n",
        "   print(f\"{num3} is smallest number\")\n",
        "\n",
        "smallest=num1 if(num1<num2 and num1<num2) else num2\n",
        "res= num3 if(num3<num1 and num3<num2) else smallest\n",
        "print(f\"{res} is smallest number\")"
      ],
      "metadata": {
        "id": "bcPGn1wYOGiM"
      },
      "execution_count": null,
      "outputs": []
    },
    {
      "cell_type": "code",
      "source": [
        "#PROGRAM TO READ THE MONTH NUMBER AS INPUT FROM THE USER AND CHECK WHETHER IT IS A VALID MONTH NUMBER OR NOT.\n",
        "num=int( input (\" Enter the month number\"))\n",
        "if (num >=1 and num<=12):\n",
        "  print( \"month is  valid\")\n",
        "else:\n",
        "  print(\"not a valid month\")\n",
        "\n",
        "res=\"month is valid\" if (num >=1 and num<=12) else \"not a valid month\"\n",
        "print(res)"
      ],
      "metadata": {
        "colab": {
          "base_uri": "https://localhost:8080/"
        },
        "id": "AIwj9rahhZiC",
        "outputId": "c743d7d0-5147-4c67-a387-918a0dd6b42d"
      },
      "execution_count": null,
      "outputs": [
        {
          "output_type": "stream",
          "name": "stdout",
          "text": [
            " Enter the month number4\n",
            "month is  valid\n",
            "month is valid\n"
          ]
        }
      ]
    },
    {
      "cell_type": "code",
      "source": [
        "#PROGRAM TO READ THE MONTH NUMBER AS INPUT FROM THR USER AND PRINT THE RESPECTIVE NUMBER OF DAYS PRESENT IN THAT PARTICULAR MONTH.\n",
        "m= int(input(\" enter the integer:\"))\n",
        "if( m==1 or m==5 or m==7 or m==8 or m==10 or m==12):\n",
        "  print(\" 31 days\")\n",
        "elif(m==2):\n",
        "  print(\" 28 or 29 days\")\n",
        "elif(\"m==2 or m==3 or m==4 or m==6 or m==9\"):\n",
        "  print(\" 30 days\")"
      ],
      "metadata": {
        "colab": {
          "base_uri": "https://localhost:8080/"
        },
        "id": "alLKjdCHkYhP",
        "outputId": "67fbe0de-b53d-4148-d187-e7ad7543f11d"
      },
      "execution_count": null,
      "outputs": [
        {
          "output_type": "stream",
          "name": "stdout",
          "text": [
            " enter the integer:6\n",
            " 30 days\n"
          ]
        }
      ]
    },
    {
      "cell_type": "code",
      "source": [
        "#PROGRAM TO CHECK WHETHER THE USER ENTERED AGE IS ELIGIBLE OR NOT.\n",
        "age=int(input(\" enter the age:\"))\n",
        "if (age>=18 and age<=100):\n",
        "  print(\" eligible to vote\")\n",
        "else:\n",
        "  print(\" not eligible to vote\")"
      ],
      "metadata": {
        "colab": {
          "base_uri": "https://localhost:8080/"
        },
        "id": "diSx7bzZmLCP",
        "outputId": "60dfb1aa-9be8-4697-8f98-621fdb0298c5"
      },
      "execution_count": null,
      "outputs": [
        {
          "output_type": "stream",
          "name": "stdout",
          "text": [
            " enter the age:56\n",
            " eligible to vote\n"
          ]
        }
      ]
    },
    {
      "cell_type": "code",
      "source": [
        "#READ AN INPUT FROM THE USER AND CHECK WHETHER IT IS EVEN OR NOT.\n",
        "num=int(input(\" Enter the integer:\"))\n",
        "if ( num%2==0):\n",
        "  print(\" even number\")\n",
        "else:\n",
        "  print(\" not an even number\")"
      ],
      "metadata": {
        "colab": {
          "base_uri": "https://localhost:8080/"
        },
        "id": "XX4-Zehoncqu",
        "outputId": "42a4f08c-9efa-45ba-d08c-a3fb2ee0b996"
      },
      "execution_count": null,
      "outputs": [
        {
          "output_type": "stream",
          "name": "stdout",
          "text": [
            " Enter the integer:35\n",
            " not an even number\n"
          ]
        }
      ]
    },
    {
      "cell_type": "code",
      "source": [
        "#PROGRAM TO READ AN INTEGER VALUE AS INPUT FROM THE USER AND CHECK WHETHER IT IS A MULTIPLE OF 3 AND 5 OR NOT.\n",
        "num=int(input(\" Enter the integer:\"))\n",
        "if( num%3==0 and num%5==0):\n",
        "  print(\"multiple of 3 and 5\")\n",
        "else:\n",
        "  print(\"not a multiple of 3 and 5\")"
      ],
      "metadata": {
        "colab": {
          "base_uri": "https://localhost:8080/"
        },
        "id": "MH6EeafqoKMh",
        "outputId": "23218c9a-a6a2-430d-b572-c7f2f117d251"
      },
      "execution_count": null,
      "outputs": [
        {
          "output_type": "stream",
          "name": "stdout",
          "text": [
            " Enter the integer:56\n",
            "not a multiple of 3 and 5\n"
          ]
        }
      ]
    },
    {
      "cell_type": "code",
      "source": [
        "#PROGRAM TO READ AN INTEGER VALUE AS INPUT AND PRINT FIZZBUZZ IF IT IS DIVIDED BY 3 AND 5.\n",
        "num=int(input(\" Enter the integer:\"))\n",
        "if( num%3==0 and num%5==0):\n",
        "  print(\"FIZZ BUZZ\")\n",
        "elif(num%3==0):\n",
        "  print(\"FIZZ\")\n",
        "elif(num%5==0):\n",
        "  print(\"BUZZ\")"
      ],
      "metadata": {
        "colab": {
          "base_uri": "https://localhost:8080/"
        },
        "id": "rUg6_cl_pB0o",
        "outputId": "2f29c1d2-4f44-4180-af74-477b2514b2f3"
      },
      "execution_count": null,
      "outputs": [
        {
          "output_type": "stream",
          "name": "stdout",
          "text": [
            " Enter the integer:15\n",
            "FIZZ BUZZ\n"
          ]
        }
      ]
    },
    {
      "cell_type": "code",
      "source": [
        "#PROGRAM TO READ THE AMOUNT AS INPUT FROM THE USER AND PRINT NUMBER OF NOTES REQUIRED IN INDIAN CURRENCY DIMENSION.\n",
        "amount=int(input(\" Enter the integer:\"))\n",
        "print(f\" 500--------->{amount//500}\")\n",
        "amount=amount%500\n",
        "print(f\" 200--------->{amount//200}\")\n",
        "amount=amount%200\n",
        "print(f\" 100--------->{amount//100}\")\n",
        "amount=amount%100\n",
        "print(f\" 50--------->{amount//50}\")\n",
        "amount=amount%50\n",
        "print(f\" 20--------->{amount//20}\")\n",
        "amount=amount%20\n",
        "print(f\" 10--------->{amount//10}\")\n",
        "amount=amount%10\n",
        "print(f\" 5--------->{amount//5}\")\n",
        "amount=amount%5\n",
        "print(f\" 2--------{amount//2}\")\n",
        "amount=amount%2\n",
        "print(f\" 1--------{amount//1}\")\n",
        "amount=amount%1"
      ],
      "metadata": {
        "colab": {
          "base_uri": "https://localhost:8080/"
        },
        "id": "cAi25oOM0ieF",
        "outputId": "8330e652-bd76-4952-e17d-f9d112b692eb"
      },
      "execution_count": null,
      "outputs": [
        {
          "output_type": "stream",
          "name": "stdout",
          "text": [
            " Enter the integer:123456\n",
            " 500--------->246\n",
            " 200--------->2\n",
            " 100--------->0\n",
            " 50--------->1\n",
            " 20--------->0\n",
            " 10--------->0\n",
            " 5--------->1\n",
            " 2--------0\n",
            " 1--------1\n"
          ]
        }
      ]
    },
    {
      "cell_type": "code",
      "source": [
        "#ATM WITHDRAW VALIDATION\n",
        "amount=int(input(\"enter the withdraw amount\"))\n",
        "if(amount<=5000 and amount%100==0):\n",
        "  print(\"allow to withdraw\")\n",
        "else:\n",
        "  print(\"insufficient balance\")"
      ],
      "metadata": {
        "colab": {
          "base_uri": "https://localhost:8080/"
        },
        "id": "KB1s02HPuPI9",
        "outputId": "927cf251-ba49-45c9-a367-322dcdf69964"
      },
      "execution_count": null,
      "outputs": [
        {
          "output_type": "stream",
          "name": "stdout",
          "text": [
            "enter the withdraw amount5500\n",
            "insufficient balance\n"
          ]
        }
      ]
    },
    {
      "cell_type": "code",
      "source": [
        "#middle number\n",
        "a = int(input(\"Enter the first integer: \"))\n",
        "b = int(input(\"Enter the second integer: \"))\n",
        "c = int(input(\"Enter the third integer: \"))\n",
        "\n",
        "# Finding the middle number\n",
        "if (a > b and a <= c) or (a <= b and a >= c):\n",
        "    middle = a\n",
        "elif (b >= a and b <= c) or (b <= a and b >= c):\n",
        "    middle = b\n",
        "else:\n",
        "    middle = c\n",
        "\n",
        "print(\"The middle number is:\",middle)\n"
      ],
      "metadata": {
        "colab": {
          "base_uri": "https://localhost:8080/"
        },
        "id": "zkJ6yLaBvwTH",
        "outputId": "f6ffd8c9-0ad7-4c03-a2cc-db58eae015a1"
      },
      "execution_count": null,
      "outputs": [
        {
          "output_type": "stream",
          "name": "stdout",
          "text": [
            "Enter the first integer: 10\n",
            "Enter the second integer: 38\n",
            "Enter the third integer: 45\n",
            "The middle number is: 38\n"
          ]
        }
      ]
    },
    {
      "cell_type": "code",
      "source": [
        "#traffic signal decision\n",
        "colour=input(\"enter the signal colour\").lower()\n",
        "if colour=='red':\n",
        "  print('stop immediately')\n",
        "elif colour=='yellow':\n",
        "  print('get ready to move')\n",
        "elif colour=='green':\n",
        "  print('you can move')\n",
        "else:\n",
        "  print('invalid colour')\n",
        "\n",
        "\n",
        "\n"
      ],
      "metadata": {
        "colab": {
          "base_uri": "https://localhost:8080/"
        },
        "id": "nF9ZRxfLw7ai",
        "outputId": "d73cc00a-abad-4f29-c621-d0f3cf9e2611"
      },
      "execution_count": null,
      "outputs": [
        {
          "output_type": "stream",
          "name": "stdout",
          "text": [
            "enter the signal colourred\n",
            "stop immediately\n"
          ]
        }
      ]
    },
    {
      "cell_type": "code",
      "source": [
        "#movie ticket pricing\n",
        "age=int(input(\"enter the age:\"))\n",
        "if(age<12):\n",
        "  print(\"the price of the person is 150rs\")\n",
        "elif(age>=12 and age<=18):\n",
        "  print(\"the price of the teenagers is 200rs\")\n",
        "elif(age>=18):\n",
        "  print(\"the price of the person is 300rs\")\n",
        "else:\n",
        "  print(\"invalid age\")\n"
      ],
      "metadata": {
        "colab": {
          "base_uri": "https://localhost:8080/"
        },
        "id": "WNQaG2ygzkTT",
        "outputId": "fd1b26a4-4709-4199-f0f9-acb081777b69"
      },
      "execution_count": null,
      "outputs": [
        {
          "output_type": "stream",
          "name": "stdout",
          "text": [
            "enter the age:12\n",
            "the price of the teenagers is 200rs\n"
          ]
        }
      ]
    },
    {
      "cell_type": "code",
      "source": [
        "#employee overtime pay\n",
        "time=int(input(\"enter the no of hours per day\"))\n",
        "if(time>=8):\n",
        "  print(\"100rs per extra hour\")\n",
        "else:\n",
        "  print(\"no over time pay\")"
      ],
      "metadata": {
        "colab": {
          "base_uri": "https://localhost:8080/"
        },
        "id": "KdEPnB291K0J",
        "outputId": "ac2c61ba-c0d4-46be-b7e6-cf9adefe2a64"
      },
      "execution_count": null,
      "outputs": [
        {
          "output_type": "stream",
          "name": "stdout",
          "text": [
            "enter the no of hours per day9\n",
            "100rs per extra hour\n"
          ]
        }
      ]
    },
    {
      "cell_type": "code",
      "source": [
        "#water remainder app\n",
        "time=int(input(\"enter the number of hours since the user last drank water\"))\n",
        "if(time>=4):\n",
        "  print(\"you are dehydrated !Drink water now!\")\n",
        "elif(time>=2 and time<=3):\n",
        "   print(\"drink a glass of water\")\n",
        "elif(time<=2 ):\n",
        "   print(\"you are fine\")\n",
        "\n"
      ],
      "metadata": {
        "colab": {
          "base_uri": "https://localhost:8080/"
        },
        "id": "2HQ2Y77d2mDo",
        "outputId": "098cc7ca-09bf-4a1e-ac08-b129ac0e7d7f"
      },
      "execution_count": null,
      "outputs": [
        {
          "output_type": "stream",
          "name": "stdout",
          "text": [
            "enter the number of hours since the user last drank water5\n",
            "you are dehydrated !Drink water now!\n"
          ]
        }
      ]
    },
    {
      "cell_type": "code",
      "source": [
        "#restaurent discount system\n",
        "bill=int(input(\"enter the bill\"))\n",
        "if(bill>1000):\n",
        "   print(f\"{bill-((10/100)*bill)} is the final amount\")\n",
        "elif(bill>500 and bill<=1000):\n",
        "   print(f\"{bill-((5/100)*bill)} is the final amount\")\n",
        "else:\n",
        "  print(\"no discount\")"
      ],
      "metadata": {
        "colab": {
          "base_uri": "https://localhost:8080/"
        },
        "id": "RekOW2Ha4NPI",
        "outputId": "5ba1ed5a-80f7-4fab-d204-9328d0ce9c50"
      },
      "execution_count": null,
      "outputs": [
        {
          "output_type": "stream",
          "name": "stdout",
          "text": [
            "enter the bill8700\n",
            "7830.0 is the final amount\n"
          ]
        }
      ]
    },
    {
      "cell_type": "code",
      "source": [
        "List=[10,20,30,40,50]\n",
        "Tuple=(10,20,30,40)\n",
        "Set={10,20,30,40,50}\n",
        "print(List)\n",
        "print(Tuple)\n",
        "print(Set)\n",
        "print(type(List))\n",
        "print(type(Tuple))\n",
        "print(type(Set))"
      ],
      "metadata": {
        "id": "wIFbGEbDAWw_",
        "colab": {
          "base_uri": "https://localhost:8080/"
        },
        "outputId": "32bec495-7200-40fa-b024-315c318e284e"
      },
      "execution_count": 22,
      "outputs": [
        {
          "output_type": "stream",
          "name": "stdout",
          "text": [
            "[10, 20, 30, 40, 50]\n",
            "(10, 20, 30, 40)\n",
            "{50, 20, 40, 10, 30}\n",
            "<class 'list'>\n",
            "<class 'tuple'>\n",
            "<class 'set'>\n"
          ]
        }
      ]
    },
    {
      "cell_type": "code",
      "source": [
        "#for loop syntax\n",
        "for element in sequence:\n",
        "  body of for loop"
      ],
      "metadata": {
        "id": "CTXEknsNGWfO"
      },
      "execution_count": null,
      "outputs": []
    },
    {
      "cell_type": "code",
      "source": [
        "#range(stop)\n",
        "#range(start,stop)\n",
        "#range(start,stop,stepsize)\n",
        "R1=range(10)\n",
        "print(R1)\n",
        "print(type(R1))"
      ],
      "metadata": {
        "colab": {
          "base_uri": "https://localhost:8080/"
        },
        "id": "0tsaHDRTHp_i",
        "outputId": "4a23f8ec-ff1c-4695-83e8-a7f31a8a34e5"
      },
      "execution_count": 23,
      "outputs": [
        {
          "output_type": "stream",
          "name": "stdout",
          "text": [
            "range(0, 10)\n",
            "<class 'range'>\n"
          ]
        }
      ]
    },
    {
      "cell_type": "markdown",
      "source": [],
      "metadata": {
        "id": "pKfbJysRHpWp"
      }
    },
    {
      "cell_type": "code",
      "source": [
        "for i in range(10):\n",
        "  print(i)"
      ],
      "metadata": {
        "colab": {
          "base_uri": "https://localhost:8080/"
        },
        "id": "1IEMDw9EG1Ks",
        "outputId": "a7ca06de-d8de-4623-d08d-7d18d4b22eee"
      },
      "execution_count": 24,
      "outputs": [
        {
          "output_type": "stream",
          "name": "stdout",
          "text": [
            "0\n",
            "1\n",
            "2\n",
            "3\n",
            "4\n",
            "5\n",
            "6\n",
            "7\n",
            "8\n",
            "9\n"
          ]
        }
      ]
    },
    {
      "cell_type": "code",
      "source": [
        "for i in range(10,20):\n",
        "  print(i)"
      ],
      "metadata": {
        "colab": {
          "base_uri": "https://localhost:8080/"
        },
        "id": "pNTryVyZIqVQ",
        "outputId": "194994be-73f6-4074-ebde-30cb68e4897a"
      },
      "execution_count": 25,
      "outputs": [
        {
          "output_type": "stream",
          "name": "stdout",
          "text": [
            "10\n",
            "11\n",
            "12\n",
            "13\n",
            "14\n",
            "15\n",
            "16\n",
            "17\n",
            "18\n",
            "19\n"
          ]
        }
      ]
    },
    {
      "cell_type": "code",
      "source": [
        "for i in range(1,11,2):\n",
        "  print(i)"
      ],
      "metadata": {
        "colab": {
          "base_uri": "https://localhost:8080/"
        },
        "id": "DkbidHGfJN-0",
        "outputId": "2413ee1d-5c87-4c60-a617-fc82ef2acd7d"
      },
      "execution_count": 26,
      "outputs": [
        {
          "output_type": "stream",
          "name": "stdout",
          "text": [
            "1\n",
            "3\n",
            "5\n",
            "7\n",
            "9\n"
          ]
        }
      ]
    },
    {
      "cell_type": "code",
      "source": [
        "#python program to print the natural numbers from 1 to n where n is the users input.\n",
        "n=int(input(\"enter the integer value:\"))\n",
        "print(f\"natural numbers from 1 to{n}:\")\n",
        "for i in range (1,n+1):\n",
        "  print(i)"
      ],
      "metadata": {
        "colab": {
          "base_uri": "https://localhost:8080/"
        },
        "id": "5rSl3bBpKESM",
        "outputId": "3a624341-eacd-4bac-804e-bbb01c23fd1f"
      },
      "execution_count": 34,
      "outputs": [
        {
          "output_type": "stream",
          "name": "stdout",
          "text": [
            "enter the integer value:30\n",
            "natural numbers from 1 to30:\n",
            "1\n",
            "2\n",
            "3\n",
            "4\n",
            "5\n",
            "6\n",
            "7\n",
            "8\n",
            "9\n",
            "10\n",
            "11\n",
            "12\n",
            "13\n",
            "14\n",
            "15\n",
            "16\n",
            "17\n",
            "18\n",
            "19\n",
            "20\n",
            "21\n",
            "22\n",
            "23\n",
            "24\n",
            "25\n",
            "26\n",
            "27\n",
            "28\n",
            "29\n",
            "30\n"
          ]
        }
      ]
    },
    {
      "cell_type": "code",
      "source": [
        "#python program to print natural numbers from n to 1.\n",
        "n=int(input(\"enter the integer value:\"))\n",
        "print(f\"natural numbers from 1 to{n}:\")\n",
        "for i in range (n,0,-1):\n",
        "  print(i)"
      ],
      "metadata": {
        "colab": {
          "base_uri": "https://localhost:8080/"
        },
        "id": "eu4chPL2LalH",
        "outputId": "f14635a4-a5df-4174-e5d2-a0cf7dc7518b"
      },
      "execution_count": 37,
      "outputs": [
        {
          "output_type": "stream",
          "name": "stdout",
          "text": [
            "enter the integer value:20\n",
            "natural numbers from 1 to20:\n",
            "20\n",
            "19\n",
            "18\n",
            "17\n",
            "16\n",
            "15\n",
            "14\n",
            "13\n",
            "12\n",
            "11\n",
            "10\n",
            "9\n",
            "8\n",
            "7\n",
            "6\n",
            "5\n",
            "4\n",
            "3\n",
            "2\n",
            "1\n"
          ]
        }
      ]
    },
    {
      "cell_type": "code",
      "source": [
        "#pythom program to print even numbers from 1 to n.\n",
        "n=int(input(\"enter the integer value:\"))\n",
        "print(f\"even numbers from 1 to{n}:\")\n",
        "for i in range (2,n+1,2):\n",
        "  print(i)\n"
      ],
      "metadata": {
        "colab": {
          "base_uri": "https://localhost:8080/"
        },
        "id": "6uVcGwa2M0Xv",
        "outputId": "0373bce8-328a-4715-d6ac-1e76125a14b1"
      },
      "execution_count": 38,
      "outputs": [
        {
          "output_type": "stream",
          "name": "stdout",
          "text": [
            "enter the integer value:30\n",
            "even numbers from 1 to30:\n",
            "2\n",
            "4\n",
            "6\n",
            "8\n",
            "10\n",
            "12\n",
            "14\n",
            "16\n",
            "18\n",
            "20\n",
            "22\n",
            "24\n",
            "26\n",
            "28\n",
            "30\n"
          ]
        }
      ]
    },
    {
      "cell_type": "code",
      "source": [
        "#python program to print even numbers from n to 1\n",
        "n=int(input(\"enter the integer value:\"))\n",
        "print(f\"even numbers from 1 to{n}:\")\n",
        "for i in range (n,0,-1):\n",
        "   if(i%2==0):\n",
        "      print(i)"
      ],
      "metadata": {
        "colab": {
          "base_uri": "https://localhost:8080/"
        },
        "id": "8tvcSHHVNjBt",
        "outputId": "3fe94fd9-fb35-48ba-fd54-edefcc437f1f"
      },
      "execution_count": 41,
      "outputs": [
        {
          "output_type": "stream",
          "name": "stdout",
          "text": [
            "enter the integer value:25\n",
            "even numbers from 1 to25:\n",
            "24\n",
            "22\n",
            "20\n",
            "18\n",
            "16\n",
            "14\n",
            "12\n",
            "10\n",
            "8\n",
            "6\n",
            "4\n",
            "2\n"
          ]
        }
      ]
    },
    {
      "cell_type": "code",
      "source": [
        "#python program to print odd numbers from 1 to n\n",
        "n=int(input(\"enter the integer value:\"))\n",
        "print(f\"odd numbers from 1 to{n}:\")\n",
        "for i in range (1,n,2):\n",
        "  print(i)"
      ],
      "metadata": {
        "colab": {
          "base_uri": "https://localhost:8080/"
        },
        "id": "xusSx2ZuOgfx",
        "outputId": "632a80b4-9076-4514-e3f8-faf71a6ae85a"
      },
      "execution_count": 45,
      "outputs": [
        {
          "output_type": "stream",
          "name": "stdout",
          "text": [
            "enter the integer value:20\n",
            "odd numbers from 1 to20:\n",
            "1\n",
            "3\n",
            "5\n",
            "7\n",
            "9\n",
            "11\n",
            "13\n",
            "15\n",
            "17\n",
            "19\n"
          ]
        }
      ]
    },
    {
      "cell_type": "code",
      "source": [
        "#odd numbers from n to 1.\n",
        "n=int(input(\"enter the integer value:\"))\n",
        "print(f\"odd numbers from 1 to{n}:\")\n",
        "for i in range (n,0,-1):\n",
        "   if(i%2==1):\n",
        "      print(i)"
      ],
      "metadata": {
        "colab": {
          "base_uri": "https://localhost:8080/"
        },
        "id": "JETzEztsPVyU",
        "outputId": "0417a847-8699-4051-9a58-18fa3c33535b"
      },
      "execution_count": 47,
      "outputs": [
        {
          "output_type": "stream",
          "name": "stdout",
          "text": [
            "enter the integer value:40\n",
            "even numbers from 1 to40:\n",
            "39\n",
            "37\n",
            "35\n",
            "33\n",
            "31\n",
            "29\n",
            "27\n",
            "25\n",
            "23\n",
            "21\n",
            "19\n",
            "17\n",
            "15\n",
            "13\n",
            "11\n",
            "9\n",
            "7\n",
            "5\n",
            "3\n",
            "1\n"
          ]
        }
      ]
    },
    {
      "cell_type": "code",
      "source": [
        "#program to print multiplication table of n.\n",
        "n=int(input(\"enter the value of n:\"))\n",
        "print(\"multiplication table of{n}:\")\n",
        "for i in range(1,11):\n",
        "  print(f\"{n}*{i}={n*i}\")"
      ],
      "metadata": {
        "colab": {
          "base_uri": "https://localhost:8080/"
        },
        "id": "xF6ATOQGP-wW",
        "outputId": "39d49c67-a24a-418c-de47-b22cafe1da7a"
      },
      "execution_count": 49,
      "outputs": [
        {
          "output_type": "stream",
          "name": "stdout",
          "text": [
            "enter the value of n:18\n",
            "multiplication table of{n}:\n",
            "18*1=18\n",
            "18*2=36\n",
            "18*3=54\n",
            "18*4=72\n",
            "18*5=90\n",
            "18*6=108\n",
            "18*7=126\n",
            "18*8=144\n",
            "18*9=162\n",
            "18*10=180\n"
          ]
        }
      ]
    }
  ]
}